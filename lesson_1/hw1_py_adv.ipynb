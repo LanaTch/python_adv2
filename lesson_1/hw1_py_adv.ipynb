{
 "cells": [
  {
   "cell_type": "markdown",
   "metadata": {},
   "source": [
    " 1. Реализовать приведение строк \"разработка\", \"сокет\", \"декоратор\" к\n",
    " типу bytes используя нативные методы строк;"
   ]
  },
  {
   "cell_type": "code",
   "execution_count": 3,
   "metadata": {},
   "outputs": [
    {
     "name": "stdout",
     "output_type": "stream",
     "text": [
      "разработка: b'\\xd1\\x80\\xd0\\xb0\\xd0\\xb7\\xd1\\x80\\xd0\\xb0\\xd0\\xb1\\xd0\\xbe\\xd1\\x82\\xd0\\xba\\xd0\\xb0'\n",
      "сокет: b'\\xd1\\x81\\xd0\\xbe\\xd0\\xba\\xd0\\xb5\\xd1\\x82'\n",
      "декоратор: b'\\xd0\\xb4\\xd0\\xb5\\xd0\\xba\\xd0\\xbe\\xd1\\x80\\xd0\\xb0\\xd1\\x82\\xd0\\xbe\\xd1\\x80'\n"
     ]
    }
   ],
   "source": [
    "str1 = 'разработка'\n",
    "str2 = 'сокет'\n",
    "str3 = 'декоратор'\n",
    "\n",
    "str1_b = str1.encode()\n",
    "print(f'{str1}: {str1_b}')\n",
    "\n",
    "str2_b = str2.encode()\n",
    "print(f'{str2}: {str2_b}')\n",
    "\n",
    "str3_b = str3.encode()\n",
    "print(f'{str3}: {str3_b}')"
   ]
  },
  {
   "cell_type": "markdown",
   "metadata": {},
   "source": [
    "2. Реализовать приведение полученных экземпляров типа bytes к типу str;"
   ]
  },
  {
   "cell_type": "code",
   "execution_count": 9,
   "metadata": {},
   "outputs": [
    {
     "name": "stdout",
     "output_type": "stream",
     "text": [
      "разработка: тип <class 'str'>\n",
      "сокет: тип <class 'str'>\n",
      "декоратор: тип <class 'str'>\n"
     ]
    }
   ],
   "source": [
    "str1_b_decode = str1_b.decode()\n",
    "print(f'{str1_b_decode}: тип {type(str1_b_decode)}')\n",
    "\n",
    "str2_b_decode = str2_b.decode()\n",
    "print(f'{str2_b_decode}: тип {type(str2_b_decode)}')\n",
    "\n",
    "str3_b_decode = str3_b.decode()\n",
    "print(f'{str3_b_decode}: тип {type(str3_b_decode)}')\n"
   ]
  },
  {
   "cell_type": "markdown",
   "metadata": {},
   "source": [
    "3. Реализовать приведение полученных строк и байтовых последовательностей\n",
    " с использование различных кодировок utf-8 latin-1."
   ]
  },
  {
   "cell_type": "code",
   "execution_count": 12,
   "metadata": {},
   "outputs": [
    {
     "name": "stdout",
     "output_type": "stream",
     "text": [
      "байтовая последовательность в utf-8: разработка\n",
      "байтовая последовательность в latin-1: ÑÐ°Ð·ÑÐ°Ð±Ð¾ÑÐºÐ°\n",
      "байтовая последовательность в utf-8: сокет\n",
      "байтовая последовательность в latin-1: ÑÐ¾ÐºÐµÑ\n",
      "байтовая последовательность в utf-8: декоратор\n",
      "байтовая последовательность в latin-1: Ð´ÐµÐºÐ¾ÑÐ°ÑÐ¾Ñ\n"
     ]
    }
   ],
   "source": [
    "str1_b_utf8 = str1_b.decode('utf-8')\n",
    "print(f'байтовая последовательность в utf-8: {str1_b_utf8}')\n",
    "str1_b_latin1 = str1_b.decode('latin-1')\n",
    "print(f'байтовая последовательность в latin-1: {str1_b_latin1}')\n",
    "\n",
    "str2_b_utf8 = str2_b.decode('utf-8')\n",
    "print(f'байтовая последовательность в utf-8: {str2_b_utf8}')\n",
    "str2_b_latin1 = str2_b.decode('latin-1')\n",
    "print(f'байтовая последовательность в latin-1: {str2_b_latin1}')\n",
    "\n",
    "str3_b_utf8 = str3_b.decode('utf-8')\n",
    "print(f'байтовая последовательность в utf-8: {str3_b_utf8}')\n",
    "str3_b_latin1 = str3_b.decode('latin-1')\n",
    "print(f'байтовая последовательность в latin-1: {str3_b_latin1}')"
   ]
  },
  {
   "cell_type": "code",
   "execution_count": null,
   "metadata": {},
   "outputs": [],
   "source": []
  }
 ],
 "metadata": {
  "kernelspec": {
   "display_name": "Python 3",
   "language": "python",
   "name": "python3"
  },
  "language_info": {
   "codemirror_mode": {
    "name": "ipython",
    "version": 3
   },
   "file_extension": ".py",
   "mimetype": "text/x-python",
   "name": "python",
   "nbconvert_exporter": "python",
   "pygments_lexer": "ipython3",
   "version": "3.7.3"
  }
 },
 "nbformat": 4,
 "nbformat_minor": 2
}
