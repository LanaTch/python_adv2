{
 "cells": [
  {
   "cell_type": "markdown",
   "metadata": {},
   "source": [
    "## Необходимые и достаточные условия\n",
    "1. Реализовать скрипт для чтения/записи данных в формате csv;"
   ]
  },
  {
   "cell_type": "code",
   "execution_count": 1,
   "metadata": {},
   "outputs": [],
   "source": [
    "import csv\n",
    "from pprint import pprint"
   ]
  },
  {
   "cell_type": "code",
   "execution_count": 58,
   "metadata": {},
   "outputs": [],
   "source": [
    "def read_write_csv(path_to_file, r_w, data=None):\n",
    "    with open(path_to_file, r_w) as file:\n",
    "        if r_w == 'r':\n",
    "            data_csv = []\n",
    "            reader = csv.reader(file)\n",
    "            print('reading...')\n",
    "            for row in reader:\n",
    "                data_csv.append(row)\n",
    "            print('reading completed')\n",
    "            return data_csv\n",
    "        elif r_w == 'w':\n",
    "            writer = csv.writer(file)\n",
    "            print('writing...')\n",
    "            for row in data:\n",
    "                writer.writerow(row)\n",
    "            print('writing comleted')"
   ]
  },
  {
   "cell_type": "code",
   "execution_count": 59,
   "metadata": {},
   "outputs": [
    {
     "name": "stdout",
     "output_type": "stream",
     "text": [
      "reading...\n",
      "reading completed\n",
      "[['header1', 'header2', 'header3', 'header4'],\n",
      " ['data1', 'data2', 'data3', 'data4'],\n",
      " ['data1', 'data2', 'data3', 'data4'],\n",
      " ['data1', 'data2', 'data3', 'data4'],\n",
      " ['data1', 'data2', 'data3', 'data4'],\n",
      " ['data1', 'data2', 'data3', 'data4']]\n"
     ]
    }
   ],
   "source": [
    "pprint(read_write_csv('data/read.csv', 'r'))"
   ]
  },
  {
   "cell_type": "code",
   "execution_count": 60,
   "metadata": {},
   "outputs": [
    {
     "name": "stdout",
     "output_type": "stream",
     "text": [
      "writing...\n",
      "writing comleted\n"
     ]
    }
   ],
   "source": [
    "data = [\n",
    "    ['header1', 'header2', 'header3', 'header4'],\n",
    "    ['data1', 'data2', 'data3', 'data4'],\n",
    "    ['data1', 'data2', 'data3', 'data4'],\n",
    "    ['data1', 'data2', 'data3', 'data4'],\n",
    "    ['data1', 'data2', 'data3', 'data4'],\n",
    "    ['data1', 'data2', 'data3', 'data4'],\n",
    "]\n",
    "\n",
    "read_write_csv('data/write.csv', 'w', data)"
   ]
  },
  {
   "cell_type": "markdown",
   "metadata": {},
   "source": [
    "2. Реализовать скрипт для чтения/записи данных в формате json;"
   ]
  },
  {
   "cell_type": "code",
   "execution_count": 4,
   "metadata": {},
   "outputs": [],
   "source": [
    "import json"
   ]
  },
  {
   "cell_type": "code",
   "execution_count": 61,
   "metadata": {},
   "outputs": [],
   "source": [
    "def read_write_json(path_to_file, r_w, data=None):\n",
    "    with open(path_to_file, r_w) as file:\n",
    "        if r_w == 'r':\n",
    "            return json.load(file)\n",
    "        elif r_w == 'w':\n",
    "            json.dump(data, file, indent=4)\n",
    "            print('writing comleted')"
   ]
  },
  {
   "cell_type": "code",
   "execution_count": 62,
   "metadata": {},
   "outputs": [
    {
     "name": "stdout",
     "output_type": "stream",
     "text": [
      "[{'header': 'data1',\n",
      "  'header2': 'data2',\n",
      "  'header3': 'data3',\n",
      "  'header4': 'data4'},\n",
      " {'header': 'data1',\n",
      "  'header2': 'data2',\n",
      "  'header3': 'data3',\n",
      "  'header4': 'data4'},\n",
      " {'header': 'data1',\n",
      "  'header2': 'data2',\n",
      "  'header3': 'data3',\n",
      "  'header4': 'data4'},\n",
      " {'header': 'data1',\n",
      "  'header2': 'data2',\n",
      "  'header3': 'data3',\n",
      "  'header4': 'data4'},\n",
      " {'header': 'data1',\n",
      "  'header2': 'data2',\n",
      "  'header3': 'data3',\n",
      "  'header4': 'data4'}]\n"
     ]
    }
   ],
   "source": [
    "pprint(read_write_json('data/read.json', 'r'))"
   ]
  },
  {
   "cell_type": "code",
   "execution_count": 63,
   "metadata": {},
   "outputs": [
    {
     "name": "stdout",
     "output_type": "stream",
     "text": [
      "writing comleted\n"
     ]
    }
   ],
   "source": [
    "data = [\n",
    "    {'header': 'data1', 'header2': 'data2', 'header3': 'data3', 'header4': 'data4'},\n",
    "    {'header': 'data1', 'header2': 'data2', 'header3': 'data3', 'header4': 'data4'},\n",
    "    {'header': 'data1', 'header2': 'data2', 'header3': 'data3', 'header4': 'data4'},\n",
    "    {'header': 'data1', 'header2': 'data2', 'header3': 'data3', 'header4': 'data4'},\n",
    "    {'header': 'data1', 'header2': 'data2', 'header3': 'data3', 'header4': 'data4'},\n",
    "]\n",
    "\n",
    "read_write_json('data/write.json', 'w', data)"
   ]
  },
  {
   "cell_type": "markdown",
   "metadata": {},
   "source": [
    "3. Реализовать скрипт для чтения/записи данных в формате yaml;"
   ]
  },
  {
   "cell_type": "code",
   "execution_count": 7,
   "metadata": {},
   "outputs": [],
   "source": [
    "import yaml"
   ]
  },
  {
   "cell_type": "code",
   "execution_count": 64,
   "metadata": {},
   "outputs": [],
   "source": [
    "def read_write_yaml(path_to_file, r_w, data=None):\n",
    "    with open(path_to_file, r_w) as file:\n",
    "        if r_w == 'r':\n",
    "            return yaml.safe_load(file)\n",
    "        elif r_w == 'w':\n",
    "            yaml.safe_dump(data, file)\n",
    "            print('writing comleted')"
   ]
  },
  {
   "cell_type": "code",
   "execution_count": 65,
   "metadata": {},
   "outputs": [
    {
     "name": "stdout",
     "output_type": "stream",
     "text": [
      "{'attr1': 'value1',\n",
      " 'attr2': 'value2',\n",
      " 'attr3': 'value3',\n",
      " 'attr4': ['value1', 'value2', 'value3']}\n"
     ]
    }
   ],
   "source": [
    "pprint(read_write_yaml('data/read.yml', 'r'))"
   ]
  },
  {
   "cell_type": "code",
   "execution_count": 66,
   "metadata": {},
   "outputs": [
    {
     "name": "stdout",
     "output_type": "stream",
     "text": [
      "writing comleted\n"
     ]
    }
   ],
   "source": [
    "data = {\n",
    "    'attr1': 'value1',\n",
    "    'attr2': 'value2',\n",
    "    'attr3': 'value3',\n",
    "    'attr4': ['value1', 'value2', 'value3']\n",
    "}\n",
    "\n",
    "read_write_yaml('data/write.yml', 'w', data)"
   ]
  },
  {
   "cell_type": "markdown",
   "metadata": {},
   "source": [
    "4. Реализовать скрипт для преобразования данных в формате csv в формат json;"
   ]
  },
  {
   "cell_type": "code",
   "execution_count": 23,
   "metadata": {},
   "outputs": [],
   "source": [
    "from collections import OrderedDict"
   ]
  },
  {
   "cell_type": "code",
   "execution_count": 70,
   "metadata": {},
   "outputs": [],
   "source": [
    "def conv_csv_to_json(in_file_name, out_file_name):\n",
    "    data_csv = read_write_csv(in_file_name, 'r')\n",
    "    data_json = []\n",
    "    headers = data_csv[0]\n",
    "    data_all = data_csv[1:]\n",
    "    for data_row in data_all:\n",
    "        data_ord_dict_row = OrderedDict()\n",
    "        for header, data in zip(headers, data_row):\n",
    "            data_ord_dict_row[header] = data\n",
    "        data_json.append(data_ord_dict_row)\n",
    "    read_write_json(out_file_name, 'w', data_json)"
   ]
  },
  {
   "cell_type": "code",
   "execution_count": 71,
   "metadata": {},
   "outputs": [
    {
     "name": "stdout",
     "output_type": "stream",
     "text": [
      "reading...\n",
      "reading completed\n",
      "writing comleted\n"
     ]
    }
   ],
   "source": [
    "conv_csv_to_json('data/read.csv', 'data/csv_to_json.json')"
   ]
  },
  {
   "cell_type": "markdown",
   "metadata": {},
   "source": [
    "5. Реализовать скрипт для преобразования данных в формате csv в формат yaml;"
   ]
  },
  {
   "cell_type": "code",
   "execution_count": 56,
   "metadata": {},
   "outputs": [],
   "source": [
    "def conv_csv_to_yaml(in_file_name, out_file_name):\n",
    "    data_csv = read_write_csv(in_file_name, 'r')\n",
    "    data_yaml = []\n",
    "    headers = data_csv[0]\n",
    "    data_all = data_csv[1:]\n",
    "    for data_row in data_all:\n",
    "        data_ord_dict_row = {}\n",
    "        for header, data in zip(headers, data_row):\n",
    "            data_ord_dict_row[header] = data\n",
    "        data_yaml.append(data_ord_dict_row)\n",
    "    read_write_yaml(out_file_name, 'w', data_yaml)"
   ]
  },
  {
   "cell_type": "code",
   "execution_count": 57,
   "metadata": {},
   "outputs": [
    {
     "name": "stdout",
     "output_type": "stream",
     "text": [
      "reading...\n",
      "writing comleted\n"
     ]
    }
   ],
   "source": [
    "conv_csv_to_yaml('data/read.csv', 'data/csv_to_yml.yml')"
   ]
  },
  {
   "cell_type": "markdown",
   "metadata": {},
   "source": [
    "6. Реализовать скрипт для преобразования данных в формате json в формат yaml."
   ]
  },
  {
   "cell_type": "code",
   "execution_count": 72,
   "metadata": {},
   "outputs": [],
   "source": [
    "def conv_json_to_yaml(in_file_name, out_file_name):\n",
    "    data_json = read_write_json(in_file_name, 'r')\n",
    "    read_write_yaml(out_file_name, 'w', data_json)                    "
   ]
  },
  {
   "cell_type": "code",
   "execution_count": 73,
   "metadata": {
    "scrolled": true
   },
   "outputs": [
    {
     "name": "stdout",
     "output_type": "stream",
     "text": [
      "writing comleted\n"
     ]
    }
   ],
   "source": [
    "conv_json_to_yaml('data/read.json', 'data/json_to_yml.yml')"
   ]
  },
  {
   "cell_type": "code",
   "execution_count": null,
   "metadata": {},
   "outputs": [],
   "source": []
  }
 ],
 "metadata": {
  "kernelspec": {
   "display_name": "Python 3",
   "language": "python",
   "name": "python3"
  },
  "language_info": {
   "codemirror_mode": {
    "name": "ipython",
    "version": 3
   },
   "file_extension": ".py",
   "mimetype": "text/x-python",
   "name": "python",
   "nbconvert_exporter": "python",
   "pygments_lexer": "ipython3",
   "version": "3.7.3"
  }
 },
 "nbformat": 4,
 "nbformat_minor": 2
}
